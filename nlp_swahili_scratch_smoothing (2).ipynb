{
 "cells": [
  {
   "cell_type": "code",
   "execution_count": 2,
   "id": "794ffc82",
   "metadata": {},
   "outputs": [],
   "source": [
    "import re\n",
    "import os\n",
    "import sys\n",
    "import numpy as np\n",
    "import time\n",
    "import math\n",
    "from datetime import datetime"
   ]
  },
  {
   "cell_type": "code",
   "execution_count": 19,
   "id": "2254dcab",
   "metadata": {},
   "outputs": [],
   "source": [
    "class DictionaryFunctions:\n",
    "  def __init__(self) -> None:\n",
    "    pass\n",
    "  def addVal_to_dictKey(self, D, k, val=1): # Inputs: Dictionary, Key, Value; Ouput: Dictionary (Updated)\n",
    "    if k in D:\n",
    "      if type(val)==int:\n",
    "        D[k] += val\n",
    "      elif (type(val)==str):\n",
    "        D[k].append(val)\n",
    "    else:\n",
    "      if type(val)==int:\n",
    "        D[k] = val\n",
    "      elif (type(val)==str):\n",
    "        D[k] = [val]\n",
    "    return D\n",
    "\n",
    "  def find_probs_of_dict(self, D):\n",
    "    total = 0\n",
    "    for key in D.keys():\n",
    "      total += D[key]\n",
    "    for key in D.keys():\n",
    "      D[key] /= total\n",
    "    return D \n",
    "\n",
    "  def get_dict_from_list(self, L):\n",
    "    D = {}\n",
    "    for char in L:\n",
    "      if char in D:\n",
    "        D[char] += 1\n",
    "      else:\n",
    "        D[char] = 1\n",
    "    return D\n",
    "\n",
    "  def max_of_dict(self, D):  \n",
    "    maxProb = 0\n",
    "    maxKey = ''\n",
    "    for key, probVal in D.items():\n",
    "      if probVal>maxProb:\n",
    "        maxProb = probVal\n",
    "        maxKey = key\n",
    "    return (maxKey, maxProb)"
   ]
  },
  {
   "cell_type": "code",
   "execution_count": 20,
   "id": "3f41c6f8",
   "metadata": {},
   "outputs": [],
   "source": [
    "class Language_Model:\n",
    "  def __init__(self, n, lang=\"\") -> None:\n",
    "    self.n = n\n",
    "    self.lang = lang\n",
    "    self.DF = DictionaryFunctions()\n",
    "    self.ASCII_Chars = ' !\"\\'(),-.0123456789:;?abcdefghijklmnopqrstuvwxyz'\n",
    "    self.sentence_EndChars = '.!?'\n",
    "    self.ngrams = {}\n",
    "    self.ngrams_nextChars = {}\n",
    "    self._ngrams_List = []\n",
    "    self._ngrams_nextChars_List = []\n",
    "    self._ngrams_possChars = {}\n",
    "    self.startPad = ['']\n",
    "    self.endPad = ['']\n",
    "    self._ngrams_Available = []\n",
    "    self._ngrams_nextChars_Available = []\n",
    "    self._ngrams_notAvailable = []\n",
    "    self._ngrams_nextChars_notAvailable = []\n",
    "    self.train_chars_len = None\n",
    "    self.train_char_prob = None\n",
    "  \n",
    "  def _char_prob(self, chars_List):\n",
    "    print(chars_List)\n",
    "    char_prob = self.DF.get_dict_from_list(chars_List)\n",
    "    char_prob = self.DF.find_probs_of_dict(char_prob)\n",
    "    return char_prob\n",
    "\n",
    "  def _get_ngrams(self, text):\n",
    "    n = self.n\n",
    "    chars_tokens = (n)*self.startPad + text + (n)*self.endPad\n",
    "    ngrams_nextChars = [(tuple(chars_tokens[i:i+n]),chars_tokens[i+n]) for i in range(len(chars_tokens)-n)]\n",
    "    return ngrams_nextChars\n",
    "\n",
    "  def clean_data(self, dataset: str) -> list:  \n",
    "    ASCII_Chars = self.ASCII_Chars\n",
    "    all_characters_in_data = re.findall(r\"[%s]\"%ASCII_Chars, dataset)\n",
    "    # data_clean = \"\".join(all_characters_in_data)\n",
    "    self.train_chars_len = len(all_characters_in_data)\n",
    "    return all_characters_in_data\n",
    "    \n",
    "  def get_Sentences_from_Text(self, text):\n",
    "    if type(text)==list:\n",
    "      all_characters_in_data = text\n",
    "    elif type(text) == str:\n",
    "      all_characters_in_data = list(text)\n",
    "    else:\n",
    "      return \"Please pass input either 'List_of_Characters' or 'Text_String'.\"\n",
    "    endChars = self.sentence_EndChars # endChars=\".!?\" ; where '.' -> (period), '!' -> (exclamation mark) and '?' -> (question mark)\n",
    "    sentences = []\n",
    "    sentence = []\n",
    "    for c in all_characters_in_data:\n",
    "      if c not in endChars:\n",
    "        sentence.append(c)\n",
    "      else:\n",
    "        sentence.append(c)\n",
    "        sentences.append(sentence)\n",
    "        sentence = []\n",
    "    return sentences\n",
    "  \n",
    "  def store_ngrams(self, sentences):\n",
    "    for sent in sentences:\n",
    "      self.train_char_prob = self._char_prob(sent)\n",
    "      ngrams_nextChars = self._get_ngrams(sent)\n",
    "\n",
    "      for ngram_nextChar in ngrams_nextChars: # ((ngram, nextchar), )\n",
    "        self._ngrams_nextChars_List.append(ngram_nextChar)\n",
    "        self._ngrams_List.append(ngram_nextChar[0])\n",
    "        self._ngrams_possChars = self.DF.addVal_to_dictKey(self._ngrams_possChars, ngram_nextChar[0], str(ngram_nextChar[1]))\n",
    "\n",
    "    self.ngrams_nextChars = self.DF.get_dict_from_list(self._ngrams_nextChars_List)\n",
    "    self.ngrams = self.DF.get_dict_from_list(self._ngrams_List)\n",
    "    \n",
    "    # conProb((ngram1, 'c')) = ngrams_nextChars[(ngram1, 'c')]/ngrams[ngram1]\n",
    "    # \"ngrams_nextChars are stored successfully\"\n",
    "\n",
    "    return \"Success: ngrams & ngrams_nextChars are stored successfully\"\n",
    "  \n",
    "  def fit(self, data):\n",
    "    all_characters_in_data = self.clean_data(data)\n",
    "    # sentences = self.get_Sentences_from_Text(all_characters_in_data)\n",
    "    statusMessage = self.store_ngrams([all_characters_in_data])\n",
    "    print(\"==== TRAINING IS COMPLETED ====\")\n",
    "    print(statusMessage)\n",
    "  \n",
    "  def get_prob(self, ngram, char):\n",
    "    if ngram in self.ngrams:\n",
    "      A = self.ngrams[ngram]\n",
    "      self._ngrams_Available.append(ngram)\n",
    "    else:\n",
    "      A = 0\n",
    "      self._ngrams_notAvailable.append(ngram)\n",
    "    \n",
    "    ngram_nextChar = tuple((ngram, char))\n",
    "    if ngram_nextChar in self.ngrams_nextChars:\n",
    "      B = self.ngrams_nextChars[ngram_nextChar]\n",
    "      self._ngrams_nextChars_Available.append(ngram_nextChar)\n",
    "    else:\n",
    "      B = 0\n",
    "      self._ngrams_nextChars_notAvailable.append(ngram_nextChar)\n",
    "    \n",
    "    #if A!=0:\n",
    "    #  result = float(B/A)\n",
    "    #else:\n",
    "    #  result = 0\n",
    "    result = float((B+1)/(A+len(ngram))) \n",
    "    return result\n",
    "  \n",
    "  def evaluate(self, text: str):\n",
    "    text = self.clean_data(text)\n",
    "    self._ngrams_Available = []\n",
    "    self._ngrams_nextChars_Available = []\n",
    "    self._ngrams_notAvailable = []\n",
    "    self._ngrams_nextChars_notAvailable = []\n",
    "    \n",
    "    total_log2loss = 0\n",
    "    ngram = self.n * self.startPad\n",
    "    inputList = list(text)\n",
    "    for char in text:\n",
    "      result = self.get_prob(tuple(ngram), char)\n",
    "      if result != 0:\n",
    "        total_log2loss -= np.log2(result)\n",
    "      \n",
    "      ngram = ngram[1:]+[char]\n",
    "    return total_log2loss/len(inputList)\n",
    "  \n",
    "  def evaluation_Status(self):\n",
    "    print(f\"Not available 'ngrams' are : {'-'*10}\")\n",
    "    print(self._ngrams_notAvailable)\n",
    "    print(f\"Not available 'ngrams_nextChars' are : {'-'*10}\")\n",
    "    print(self._ngrams_nextChars_notAvailable)"
   ]
  },
  {
   "cell_type": "code",
   "execution_count": 21,
   "id": "984be271",
   "metadata": {},
   "outputs": [],
   "source": [
    "def load_data(filePath):\n",
    "  data_cwe = open(filePath, 'r').read().lower()\n",
    "  return data_cwe"
   ]
  },
  {
   "cell_type": "code",
   "execution_count": 22,
   "id": "e2907a6e",
   "metadata": {},
   "outputs": [],
   "source": [
    "filePath = \"C:/Users/14086/Downloads/train-04/sw-train.txt\"\n",
    "train_data = load_data(filePath)"
   ]
  },
  {
   "cell_type": "code",
   "execution_count": 23,
   "id": "944732a3",
   "metadata": {},
   "outputs": [],
   "source": [
    "filePath = \"C:/Users/14086/Downloads/test04/sw-test.txt\"\n",
    "test_data = load_data(filePath)"
   ]
  },
  {
   "cell_type": "code",
   "execution_count": 24,
   "id": "a9d67ada",
   "metadata": {},
   "outputs": [
    {
     "name": "stderr",
     "output_type": "stream",
     "text": [
      "IOPub data rate exceeded.\n",
      "The notebook server will temporarily stop sending output\n",
      "to the client in order to avoid crashing it.\n",
      "To change this limit, set the config variable\n",
      "`--NotebookApp.iopub_data_rate_limit`.\n",
      "\n",
      "Current values:\n",
      "NotebookApp.iopub_data_rate_limit=1000000.0 (bytes/sec)\n",
      "NotebookApp.rate_limit_window=3.0 (secs)\n",
      "\n"
     ]
    },
    {
     "name": "stdout",
     "output_type": "stream",
     "text": [
      "==== TRAINING IS COMPLETED ====\n",
      "Success: ngrams & ngrams_nextChars are stored successfully\n",
      "Training Log2Loss : 2.7039773194184282\n"
     ]
    }
   ],
   "source": [
    "n=15\n",
    "LM_15 = Language_Model(n)\n",
    "LM_15.fit(train_data)\n",
    "print(f\"Training Log2Loss : {LM_15.evaluate(train_data)}\") \n",
    "\n",
    "#print(\"_ngrams_Available : \", len(LM_15._ngrams_Available))\n",
    "#print(\"_ngrams_nextChars_Available : \", len(LM_15._ngrams_nextChars_Available))\n",
    "\n",
    "#print(\"_ngrams_notAvailable : \", len(LM_15._ngrams_notAvailable))\n",
    "#print(\"_ngrams_nextChars_notAvailable : \", len(LM_15._ngrams_nextChars_notAvailable))"
   ]
  },
  {
   "cell_type": "code",
   "execution_count": 25,
   "id": "547d4cf2",
   "metadata": {},
   "outputs": [
    {
     "name": "stdout",
     "output_type": "stream",
     "text": [
      "Testing Log2Loss : 3.4341225967230136\n"
     ]
    },
    {
     "data": {
      "text/plain": [
       "'\\nprint(\"_ngrams_Available : \", len(LM_15._ngrams_Available))\\nprint(\"_ngrams_nextChars_Available : \", len(LM_15._ngrams_nextChars_Available))\\n\\nprint(\"_ngrams_notAvailable : \", len(LM_15._ngrams_notAvailable))\\nprint(\"_ngrams_nextChars_notAvailable : \", len(LM_15._ngrams_nextChars_notAvailable))'"
      ]
     },
     "execution_count": 25,
     "metadata": {},
     "output_type": "execute_result"
    }
   ],
   "source": [
    "print(f\"Testing Log2Loss : {LM_15.evaluate(test_data)}\") \n",
    "\"\"\"\n",
    "print(\"_ngrams_Available : \", len(LM_15._ngrams_Available))\n",
    "print(\"_ngrams_nextChars_Available : \", len(LM_15._ngrams_nextChars_Available))\n",
    "\n",
    "print(\"_ngrams_notAvailable : \", len(LM_15._ngrams_notAvailable))\n",
    "print(\"_ngrams_nextChars_notAvailable : \", len(LM_15._ngrams_nextChars_notAvailable))\"\"\""
   ]
  },
  {
   "cell_type": "code",
   "execution_count": null,
   "id": "b9fc993c",
   "metadata": {},
   "outputs": [],
   "source": []
  },
  {
   "cell_type": "code",
   "execution_count": null,
   "id": "3cd186b8",
   "metadata": {},
   "outputs": [],
   "source": []
  }
 ],
 "metadata": {
  "kernelspec": {
   "display_name": "Python 3 (ipykernel)",
   "language": "python",
   "name": "python3"
  },
  "language_info": {
   "codemirror_mode": {
    "name": "ipython",
    "version": 3
   },
   "file_extension": ".py",
   "mimetype": "text/x-python",
   "name": "python",
   "nbconvert_exporter": "python",
   "pygments_lexer": "ipython3",
   "version": "3.9.13"
  }
 },
 "nbformat": 4,
 "nbformat_minor": 5
}
