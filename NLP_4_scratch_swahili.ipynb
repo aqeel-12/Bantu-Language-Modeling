{
 "cells": [
  {
   "cell_type": "code",
   "execution_count": 2,
   "metadata": {
    "colab": {
     "base_uri": "https://localhost:8080/"
    },
    "id": "WFeg-Zqpe6AV",
    "outputId": "31124667-3e4f-4a89-f87c-5999162df197"
   },
   "outputs": [
    {
     "name": "stdout",
     "output_type": "stream",
     "text": [
      "Drive already mounted at /content/drive; to attempt to forcibly remount, call drive.mount(\"/content/drive\", force_remount=True).\n"
     ]
    }
   ],
   "source": [
    "from google.colab import drive\n",
    "drive.mount('/content/drive')"
   ]
  },
  {
   "cell_type": "markdown",
   "metadata": {
    "id": "zEkVhNOd8zTd"
   },
   "source": [
    "**Important Notes from given Problem Statement:**\n",
    "- It is essential that the probabilities for all 48 characters with a given history sum to 1.0!. In other words, you must produce a conditional probability distribution at each step — returning probabilities that sum to\n",
    "more than 1.0 is an easy way to “cheat” and I'll be checking carefully that this isn't the case.\n",
    "- Evaluate functions that return the probability of a character given the history of characters preceding it (with trivial implementations).\n",
    "\n",
    "- Your program to be a call to the “evaluate” function which displays the cross entropies of your four language models on the test sets.\n",
    "- Evaluation: Your goal is to produce language models with the smallest cross-entropy (in units of bits per\n",
    "character)\n",
    "- H = -1/N sum i=1toN (log2(P(ci\\c1...ci-1))); where c1,..., cN are the characters of the test corpus."
   ]
  },
  {
   "cell_type": "markdown",
   "metadata": {
    "id": "_9XMVqUckds1"
   },
   "source": [
    "**Approach of the Code**"
   ]
  },
  {
   "cell_type": "markdown",
   "metadata": {
    "id": "z_BGsYX7WJ5A"
   },
   "source": [
    "======================================================================= 1 Loading   \n",
    "1) Load train dataset  \n",
    "\n",
    "======================================================================= 2 Cleaning  \n",
    "2) Prepare the useful characters: ASCII_Chars  \n",
    "3) Clean dataset:  \n",
    "  - Remove punctuation characters  \n",
    "  - List of all the characters without losing the order of the characters  \n",
    "\n",
    "======================================================================= 3 Training     \n",
    "4) Find the ngrams & ngram_nextCharacters of these characters  \n",
    "5) Find ngrams count & ngram_nextCharacters count and store them  \n",
    "\n",
    "======================================================================= 4 Probability  \n",
    "6) Find the probability of ngram & nextChar  \n",
    "\n",
    "======================================================================= 5 Evaluating  \n",
    "8) For each given history & nextChar,   \n",
    "  - get the probability of history(ngram) and nextChar  \n",
    "  - apply -log2 on probability  \n",
    "  - summation of all these gives result as log2loss.  "
   ]
  },
  {
   "cell_type": "markdown",
   "metadata": {
    "id": "MCvUGtnNgmh0"
   },
   "source": [
    "### **Defining Language Model**"
   ]
  },
  {
   "cell_type": "code",
   "execution_count": 10,
   "metadata": {
    "id": "0JDOhM3_fNDP"
   },
   "outputs": [],
   "source": [
    "import re\n",
    "import os\n",
    "import sys\n",
    "import numpy as np\n",
    "import time\n",
    "import math\n",
    "from datetime import datetime"
   ]
  },
  {
   "cell_type": "code",
   "execution_count": 11,
   "metadata": {
    "id": "TsMUF__fmwzL"
   },
   "outputs": [],
   "source": [
    "class DictionaryFunctions:\n",
    "  def __init__(self) -> None:\n",
    "    pass\n",
    "  def addVal_to_dictKey(self, D, k, val=1): # Inputs: Dictionary, Key, Value; Ouput: Dictionary (Updated)\n",
    "    if k in D:\n",
    "      if type(val)==int:\n",
    "        D[k] += val\n",
    "      elif (type(val)==str):\n",
    "        D[k].append(val)\n",
    "    else:\n",
    "      if type(val)==int:\n",
    "        D[k] = val\n",
    "      elif (type(val)==str):\n",
    "        D[k] = [val]\n",
    "    return D\n",
    "\n",
    "    def find_probs_of_dict(self, D):\n",
    "      total = 0\n",
    "      for key in D.keys():\n",
    "        total += D[key]\n",
    "      for key in D.keys():\n",
    "        D[key] /= total\n",
    "      return D \n",
    "\n",
    "  def get_dict_from_list(self, L):\n",
    "    D = {}\n",
    "    for char in L:\n",
    "      if char in D:\n",
    "        D[char] += 1\n",
    "      else:\n",
    "        D[char] = 1\n",
    "    return D\n",
    "\n",
    "  def max_of_dict(self, D):  \n",
    "    maxProb = 0\n",
    "    maxKey = ''\n",
    "    for key, probVal in D.items():\n",
    "      if probVal>maxProb:\n",
    "        maxProb = probVal\n",
    "        maxKey = key\n",
    "    return (maxKey, maxProb)"
   ]
  },
  {
   "cell_type": "code",
   "execution_count": 12,
   "metadata": {
    "id": "jKb0_9cofxKY"
   },
   "outputs": [],
   "source": [
    "class Language_Model:\n",
    "  def __init__(self, n, lang=\"\") -> None:\n",
    "    self.n = n\n",
    "    self.lang = lang\n",
    "    self.DF = DictionaryFunctions()\n",
    "    self.ASCII_Chars = ' !\"\\'(),-.0123456789:;?abcdefghijklmnopqrstuvwxyz'\n",
    "    self.sentence_EndChars = '.!?'\n",
    "    self.ngrams = {}\n",
    "    self.ngrams_nextChars = {}\n",
    "    self._ngrams_List = []\n",
    "    self._ngrams_nextChars_List = []\n",
    "    self._ngrams_possChars = {}\n",
    "    self.startPad = ['<START>']\n",
    "    self.endPad = ['<END>']\n",
    "    self._ngrams_notAvailable = []\n",
    "    self._ngrams_nextChars_notAvailable = []\n",
    "  \n",
    "  def _get_ngrams(self, text):\n",
    "    n = self.n\n",
    "    chars_tokens = (n)*self.startPad + text + (n)*self.endPad\n",
    "    ngrams_nextChars = [(tuple(chars_tokens[i:i+n]),chars_tokens[i+n]) for i in range(len(chars_tokens)-n)]\n",
    "    return ngrams_nextChars\n",
    "\n",
    "  def clean_data(self, dataset: str) -> list:  \n",
    "    ASCII_Chars = self.ASCII_Chars\n",
    "    all_characters_in_data = re.findall(r\"[%s]\"%ASCII_Chars, dataset)\n",
    "    # data_clean = \"\".join(all_characters_in_data)\n",
    "    return all_characters_in_data\n",
    "    \n",
    "  def get_Sentences_from_Text(self, text):\n",
    "    if type(text)==list:\n",
    "      all_characters_in_data = text\n",
    "    elif type(text) == str:\n",
    "      all_characters_in_data = list(text)\n",
    "    else:\n",
    "      return \"Please pass input either 'List_of_Characters' or 'Text_String'.\"\n",
    "    endChars = self.sentence_EndChars # endChars=\".!?\" ; where '.' -> (period), '!' -> (exclamation mark) and '?' -> (question mark)\n",
    "    sentences = []\n",
    "    sentence = []\n",
    "    for c in all_characters_in_data:\n",
    "      if c not in endChars:\n",
    "        sentence.append(c)\n",
    "      else:\n",
    "        sentence.append(c)\n",
    "        sentences.append(sentence)\n",
    "        sentence = []\n",
    "    return sentences\n",
    "  \n",
    "  def store_ngrams(self, sentences):\n",
    "    for sent in sentences:\n",
    "      ngrams_nextChars = self._get_ngrams(sent)\n",
    "      for ngram_nextChar in ngrams_nextChars:\n",
    "        self._ngrams_nextChars_List.append(ngram_nextChar)\n",
    "        self._ngrams_List.append(ngram_nextChar[0])\n",
    "        self._ngrams_possChars = self.DF.addVal_to_dictKey(self._ngrams_possChars, ngram_nextChar[0], str(ngram_nextChar[1]))\n",
    "\n",
    "    self.ngrams_nextChars = self.DF.get_dict_from_list(self._ngrams_nextChars_List)\n",
    "    self.ngrams = self.DF.get_dict_from_list(self._ngrams_List)\n",
    "\n",
    "    return \"Success: ngrams & ngrams_nextChars are stored successfully\"\n",
    "  \n",
    "  def fit(self, data):\n",
    "    all_characters_in_data = self.clean_data(data)\n",
    "    sentences = self.get_Sentences_from_Text(all_characters_in_data)\n",
    "    statusMessage = self.store_ngrams(sentences)\n",
    "    print(\"==== TRAINING IS COMPLETED ====\")\n",
    "    print(statusMessage)\n",
    "  \n",
    "  def get_prob(self, ngram, char):\n",
    "    if ngram in self.ngrams:\n",
    "      A = self.ngrams[ngram]\n",
    "    else:\n",
    "      self._ngrams_notAvailable.append(ngram)\n",
    "      A = 0\n",
    "    ngram_nextChar = tuple((ngram, char))\n",
    "\n",
    "    if ngram_nextChar in self.ngrams_nextChars:\n",
    "      B = self.ngrams_nextChars[ngram_nextChar]\n",
    "    else:\n",
    "      self._ngrams_nextChars_notAvailable.append(ngram_nextChar)\n",
    "      B = 0\n",
    "    if A!=0:\n",
    "      result = float(B/A)\n",
    "    else:\n",
    "      result = 0\n",
    "    return result\n",
    "  \n",
    "  def evaluate(self, text: str):\n",
    "    total_log2loss = 0\n",
    "    ngram = self.n * self.startPad\n",
    "    inputList = list(text)\n",
    "    for char in text:\n",
    "      result = self.get_prob(tuple(ngram), char)\n",
    "      if result != 0:\n",
    "        total_log2loss -= np.log2(result)\n",
    "      \n",
    "      ngram = ngram[1:]+[char]\n",
    "    return total_log2loss/len(inputList)\n",
    "  \n",
    "  def evaluation_Status(self):\n",
    "    print(f\"Not available 'ngrams' are : {'-'*10}\")\n",
    "    print(self._ngrams_notAvailable)\n",
    "    print(f\"Not available 'ngrams_nextChars' are : {'-'*10}\")\n",
    "    print(self._ngrams_nextChars_notAvailable)\n"
   ]
  },
  {
   "cell_type": "markdown",
   "metadata": {
    "id": "HvS8ncVwgtFz"
   },
   "source": [
    "### **Load the Datasets**"
   ]
  },
  {
   "cell_type": "code",
   "execution_count": 13,
   "metadata": {
    "id": "rPMI5oACgxwr"
   },
   "outputs": [],
   "source": [
    "def load_data(filePath):\n",
    "  data_cwe = open(filePath, 'r').read().lower()\n",
    "  return data_cwe"
   ]
  },
  {
   "cell_type": "code",
   "execution_count": 14,
   "metadata": {
    "id": "yi8TCu-bpAMk"
   },
   "outputs": [],
   "source": [
    "filePath = \"C:/Users/14086/Downloads/train-04/sw-train.txt\"\n",
    "train_data = load_data(filePath)"
   ]
  },
  {
   "cell_type": "code",
   "execution_count": 15,
   "metadata": {
    "id": "jEjY7j6zFB8b"
   },
   "outputs": [],
   "source": [
    "filePath = \"C:/Users/14086/Downloads/test04/sw-test.txt\"\n",
    "test_data = load_data(filePath)"
   ]
  },
  {
   "cell_type": "markdown",
   "metadata": {
    "id": "xtseLCYng04C"
   },
   "source": [
    "### **Train the Language Model : SWE**"
   ]
  },
  {
   "cell_type": "markdown",
   "metadata": {
    "id": "WY8iItY1hBBz"
   },
   "source": [
    "**5-gram Model**"
   ]
  },
  {
   "cell_type": "code",
   "execution_count": 18,
   "metadata": {
    "colab": {
     "base_uri": "https://localhost:8080/"
    },
    "id": "ohz7wZXCBEy5",
    "outputId": "15a13269-b770-4efd-b853-7c8997b01398"
   },
   "outputs": [
    {
     "name": "stdout",
     "output_type": "stream",
     "text": [
      "==== TRAINING IS COMPLETED ====\n",
      "Success: ngrams & ngrams_nextChars are stored successfully\n",
      "\n",
      "\n",
      "Code running time : 0:03:10.834804\n"
     ]
    }
   ],
   "source": [
    "startTime = datetime.now()\n",
    "\n",
    "LM_5 = Language_Model(5)\n",
    "LM_5.fit(train_data)\n",
    "\n",
    "endTime = datetime.now()\n",
    "print(\"\\n\")\n",
    "print(f\"Code running time : {endTime-startTime}\")"
   ]
  },
  {
   "cell_type": "code",
   "execution_count": 19,
   "metadata": {
    "colab": {
     "base_uri": "https://localhost:8080/"
    },
    "id": "TtNRbIftfm1d",
    "outputId": "dfd0e290-da2c-495a-8272-56ce78c969d4"
   },
   "outputs": [
    {
     "name": "stdout",
     "output_type": "stream",
     "text": [
      "1.6714766269212313\n"
     ]
    }
   ],
   "source": [
    "log2loss = LM_5.evaluate(train_data)\n",
    "print(log2loss)"
   ]
  },
  {
   "cell_type": "code",
   "execution_count": 20,
   "metadata": {
    "colab": {
     "base_uri": "https://localhost:8080/"
    },
    "id": "zhBKsL61WX5j",
    "outputId": "88e9d179-bf6d-4361-c2a3-db2e75510c8e"
   },
   "outputs": [
    {
     "name": "stdout",
     "output_type": "stream",
     "text": [
      "1.6311192709905782\n"
     ]
    }
   ],
   "source": [
    "log2loss = LM_5.evaluate(test_data)\n",
    "print(log2loss)"
   ]
  },
  {
   "cell_type": "markdown",
   "metadata": {
    "id": "TB6uqGH-hInY"
   },
   "source": [
    "**10-gram Model**"
   ]
  },
  {
   "cell_type": "code",
   "execution_count": 17,
   "metadata": {
    "id": "pu_I-P9ZhPhR"
   },
   "outputs": [
    {
     "name": "stdout",
     "output_type": "stream",
     "text": [
      "==== TRAINING IS COMPLETED ====\n",
      "Success: ngrams & ngrams_nextChars are stored successfully\n",
      "\n",
      "\n",
      "Training Log2Loss : 0.6992926441937776\n",
      "Testing Log2Loss : 0.5764439287914219\n",
      "\n",
      "\n",
      "Code running time : 1:04:58.078273\n"
     ]
    }
   ],
   "source": [
    "n = 10\n",
    "\n",
    "startTime = datetime.now()\n",
    "\n",
    "LM_10 = Language_Model(n)\n",
    "LM_10.fit(train_data)\n",
    "\n",
    "print(\"\\n\")\n",
    "print(f\"Training Log2Loss : {LM_10.evaluate(train_data)}\") \n",
    "print(f\"Testing Log2Loss : {LM_10.evaluate(test_data)}\") \n",
    "\n",
    "endTime = datetime.now()\n",
    "print(\"\\n\")\n",
    "print(f\"Code running time : {endTime-startTime}\")"
   ]
  },
  {
   "cell_type": "markdown",
   "metadata": {
    "id": "ugJdy4eDhtw1"
   },
   "source": [
    "**15-gram Model**"
   ]
  },
  {
   "cell_type": "code",
   "execution_count": 16,
   "metadata": {
    "colab": {
     "base_uri": "https://localhost:8080/"
    },
    "id": "YnGA_k-GhetT",
    "outputId": "61d186dd-98cd-43e7-a4e5-553174bb2ea0"
   },
   "outputs": [
    {
     "name": "stdout",
     "output_type": "stream",
     "text": [
      "==== TRAINING IS COMPLETED ====\n",
      "Success: ngrams & ngrams_nextChars are stored successfully\n",
      "\n",
      "\n",
      "Training Log2Loss : 0.19449915820088032\n",
      "Testing Log2Loss : 0.12470597945588487\n",
      "\n",
      "\n",
      "Code running time : 0:28:48.179399\n"
     ]
    }
   ],
   "source": [
    "n = 15\n",
    "\n",
    "startTime = datetime.now()\n",
    "\n",
    "LM_15 = Language_Model(n)\n",
    "LM_15.fit(train_data)\n",
    "\n",
    "print(\"\\n\")\n",
    "print(f\"Training Log2Loss : {LM_15.evaluate(train_data)}\") \n",
    "print(f\"Testing Log2Loss : {LM_15.evaluate(test_data)}\") \n",
    "\n",
    "endTime = datetime.now()\n",
    "print(\"\\n\")\n",
    "print(f\"Code running time : {endTime-startTime}\")"
   ]
  },
  {
   "cell_type": "code",
   "execution_count": null,
   "metadata": {},
   "outputs": [],
   "source": []
  }
 ],
 "metadata": {
  "colab": {
   "collapsed_sections": [
    "HvS8ncVwgtFz"
   ],
   "provenance": []
  },
  "kernelspec": {
   "display_name": "Python 3 (ipykernel)",
   "language": "python",
   "name": "python3"
  },
  "language_info": {
   "codemirror_mode": {
    "name": "ipython",
    "version": 3
   },
   "file_extension": ".py",
   "mimetype": "text/x-python",
   "name": "python",
   "nbconvert_exporter": "python",
   "pygments_lexer": "ipython3",
   "version": "3.9.13"
  }
 },
 "nbformat": 4,
 "nbformat_minor": 1
}
